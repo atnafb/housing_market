{
 "cells": [
  {
   "cell_type": "code",
   "execution_count": 38,
   "id": "ccdf0f61-49ed-4408-a335-39461e190973",
   "metadata": {},
   "outputs": [],
   "source": [
    "#pip install kaggle"
   ]
  },
  {
   "cell_type": "code",
   "execution_count": 10,
   "id": "5e3956be-ee1f-45b7-8e91-8aaa07172211",
   "metadata": {},
   "outputs": [],
   "source": [
    "import kaggle \n",
    "import pandas as pd\n",
    "import os"
   ]
  },
  {
   "cell_type": "code",
   "execution_count": 12,
   "id": "7f3c062c-7232-4bf9-8a17-3c90d93ae908",
   "metadata": {},
   "outputs": [
    {
     "name": "stdout",
     "output_type": "stream",
     "text": [
      "name                              size  creationDate                \n",
      "--------------------------  ----------  --------------------------  \n",
      "city_market_tracker.tsv000  3340542588  2025-03-08 03:08:47.014000  \n"
     ]
    }
   ],
   "source": [
    "# See available files \n",
    "!kaggle datasets files -d vincentvaseghi/us-cities-housing-market-data"
   ]
  },
  {
   "cell_type": "code",
   "execution_count": 13,
   "id": "334ad4fb-6f20-49cf-96f5-4d7471042499",
   "metadata": {},
   "outputs": [
    {
     "name": "stdout",
     "output_type": "stream",
     "text": [
      "Dataset URL: https://www.kaggle.com/datasets/vincentvaseghi/us-cities-housing-market-data\n",
      "License(s): copyright-authors\n",
      "city_market_tracker.tsv000: Skipping, found more recently modified local copy (use --force to force download)\n"
     ]
    }
   ],
   "source": [
    "# Download the dataset from Kaggle\n",
    "!kaggle datasets download -d vincentvaseghi/us-cities-housing-market-data -f city_market_tracker.tsv000"
   ]
  },
  {
   "cell_type": "code",
   "execution_count": 15,
   "id": "95968522-8898-4a76-93ec-3f3dade1c66c",
   "metadata": {},
   "outputs": [
    {
     "data": {
      "text/html": [
       "<div>\n",
       "<style scoped>\n",
       "    .dataframe tbody tr th:only-of-type {\n",
       "        vertical-align: middle;\n",
       "    }\n",
       "\n",
       "    .dataframe tbody tr th {\n",
       "        vertical-align: top;\n",
       "    }\n",
       "\n",
       "    .dataframe thead th {\n",
       "        text-align: right;\n",
       "    }\n",
       "</style>\n",
       "<table border=\"1\" class=\"dataframe\">\n",
       "  <thead>\n",
       "    <tr style=\"text-align: right;\">\n",
       "      <th></th>\n",
       "      <th>period_begin</th>\n",
       "      <th>period_end</th>\n",
       "      <th>period_duration</th>\n",
       "      <th>region_type</th>\n",
       "      <th>region_type_id</th>\n",
       "      <th>table_id</th>\n",
       "      <th>is_seasonally_adjusted</th>\n",
       "      <th>region</th>\n",
       "      <th>city</th>\n",
       "      <th>state</th>\n",
       "      <th>...</th>\n",
       "      <th>sold_above_list_yoy</th>\n",
       "      <th>price_drops</th>\n",
       "      <th>price_drops_mom</th>\n",
       "      <th>price_drops_yoy</th>\n",
       "      <th>off_market_in_two_weeks</th>\n",
       "      <th>off_market_in_two_weeks_mom</th>\n",
       "      <th>off_market_in_two_weeks_yoy</th>\n",
       "      <th>parent_metro_region</th>\n",
       "      <th>parent_metro_region_metro_code</th>\n",
       "      <th>last_updated</th>\n",
       "    </tr>\n",
       "  </thead>\n",
       "  <tbody>\n",
       "    <tr>\n",
       "      <th>0</th>\n",
       "      <td>2012-01-01</td>\n",
       "      <td>2012-01-31</td>\n",
       "      <td>30</td>\n",
       "      <td>place</td>\n",
       "      <td>6</td>\n",
       "      <td>36726</td>\n",
       "      <td>f</td>\n",
       "      <td>Gomer, OH</td>\n",
       "      <td>Gomer</td>\n",
       "      <td>Ohio</td>\n",
       "      <td>...</td>\n",
       "      <td>NaN</td>\n",
       "      <td>NaN</td>\n",
       "      <td>NaN</td>\n",
       "      <td>NaN</td>\n",
       "      <td>0.00</td>\n",
       "      <td>NaN</td>\n",
       "      <td>NaN</td>\n",
       "      <td>Lima, OH</td>\n",
       "      <td>30620</td>\n",
       "      <td>2025-02-10 14:21:52</td>\n",
       "    </tr>\n",
       "    <tr>\n",
       "      <th>1</th>\n",
       "      <td>2021-07-01</td>\n",
       "      <td>2021-07-31</td>\n",
       "      <td>30</td>\n",
       "      <td>place</td>\n",
       "      <td>6</td>\n",
       "      <td>26165</td>\n",
       "      <td>f</td>\n",
       "      <td>Swartz, LA</td>\n",
       "      <td>Swartz</td>\n",
       "      <td>Louisiana</td>\n",
       "      <td>...</td>\n",
       "      <td>0.0</td>\n",
       "      <td>NaN</td>\n",
       "      <td>NaN</td>\n",
       "      <td>NaN</td>\n",
       "      <td>0.20</td>\n",
       "      <td>0.200000</td>\n",
       "      <td>0.200000</td>\n",
       "      <td>Monroe, LA</td>\n",
       "      <td>33740</td>\n",
       "      <td>2025-02-10 14:21:52</td>\n",
       "    </tr>\n",
       "    <tr>\n",
       "      <th>2</th>\n",
       "      <td>2017-10-01</td>\n",
       "      <td>2017-10-31</td>\n",
       "      <td>30</td>\n",
       "      <td>place</td>\n",
       "      <td>6</td>\n",
       "      <td>17260</td>\n",
       "      <td>f</td>\n",
       "      <td>Waconia, MN</td>\n",
       "      <td>Waconia</td>\n",
       "      <td>Minnesota</td>\n",
       "      <td>...</td>\n",
       "      <td>0.0</td>\n",
       "      <td>0.4</td>\n",
       "      <td>0.073469</td>\n",
       "      <td>0.133333</td>\n",
       "      <td>0.12</td>\n",
       "      <td>-0.346667</td>\n",
       "      <td>-0.143158</td>\n",
       "      <td>Minneapolis, MN</td>\n",
       "      <td>33460</td>\n",
       "      <td>2025-02-10 14:21:52</td>\n",
       "    </tr>\n",
       "    <tr>\n",
       "      <th>3</th>\n",
       "      <td>2015-08-01</td>\n",
       "      <td>2015-08-31</td>\n",
       "      <td>30</td>\n",
       "      <td>place</td>\n",
       "      <td>6</td>\n",
       "      <td>35546</td>\n",
       "      <td>f</td>\n",
       "      <td>Whites Landing, OH</td>\n",
       "      <td>Whites Landing</td>\n",
       "      <td>Ohio</td>\n",
       "      <td>...</td>\n",
       "      <td>0.0</td>\n",
       "      <td>NaN</td>\n",
       "      <td>NaN</td>\n",
       "      <td>NaN</td>\n",
       "      <td>0.00</td>\n",
       "      <td>NaN</td>\n",
       "      <td>0.000000</td>\n",
       "      <td>Sandusky, OH</td>\n",
       "      <td>41780</td>\n",
       "      <td>2025-02-10 14:21:52</td>\n",
       "    </tr>\n",
       "    <tr>\n",
       "      <th>4</th>\n",
       "      <td>2014-12-01</td>\n",
       "      <td>2014-12-31</td>\n",
       "      <td>30</td>\n",
       "      <td>place</td>\n",
       "      <td>6</td>\n",
       "      <td>21159</td>\n",
       "      <td>f</td>\n",
       "      <td>Alondra Park, CA</td>\n",
       "      <td>Alondra Park</td>\n",
       "      <td>California</td>\n",
       "      <td>...</td>\n",
       "      <td>NaN</td>\n",
       "      <td>NaN</td>\n",
       "      <td>NaN</td>\n",
       "      <td>NaN</td>\n",
       "      <td>0.00</td>\n",
       "      <td>NaN</td>\n",
       "      <td>NaN</td>\n",
       "      <td>Los Angeles, CA</td>\n",
       "      <td>31084</td>\n",
       "      <td>2025-02-10 14:21:52</td>\n",
       "    </tr>\n",
       "  </tbody>\n",
       "</table>\n",
       "<p>5 rows × 58 columns</p>\n",
       "</div>"
      ],
      "text/plain": [
       "  period_begin  period_end  period_duration region_type  region_type_id  \\\n",
       "0   2012-01-01  2012-01-31               30       place               6   \n",
       "1   2021-07-01  2021-07-31               30       place               6   \n",
       "2   2017-10-01  2017-10-31               30       place               6   \n",
       "3   2015-08-01  2015-08-31               30       place               6   \n",
       "4   2014-12-01  2014-12-31               30       place               6   \n",
       "\n",
       "   table_id is_seasonally_adjusted              region            city  \\\n",
       "0     36726                      f           Gomer, OH           Gomer   \n",
       "1     26165                      f          Swartz, LA          Swartz   \n",
       "2     17260                      f         Waconia, MN         Waconia   \n",
       "3     35546                      f  Whites Landing, OH  Whites Landing   \n",
       "4     21159                      f    Alondra Park, CA    Alondra Park   \n",
       "\n",
       "        state  ... sold_above_list_yoy price_drops  price_drops_mom  \\\n",
       "0        Ohio  ...                 NaN         NaN              NaN   \n",
       "1   Louisiana  ...                 0.0         NaN              NaN   \n",
       "2   Minnesota  ...                 0.0         0.4         0.073469   \n",
       "3        Ohio  ...                 0.0         NaN              NaN   \n",
       "4  California  ...                 NaN         NaN              NaN   \n",
       "\n",
       "   price_drops_yoy  off_market_in_two_weeks  off_market_in_two_weeks_mom  \\\n",
       "0              NaN                     0.00                          NaN   \n",
       "1              NaN                     0.20                     0.200000   \n",
       "2         0.133333                     0.12                    -0.346667   \n",
       "3              NaN                     0.00                          NaN   \n",
       "4              NaN                     0.00                          NaN   \n",
       "\n",
       "   off_market_in_two_weeks_yoy  parent_metro_region  \\\n",
       "0                          NaN             Lima, OH   \n",
       "1                     0.200000           Monroe, LA   \n",
       "2                    -0.143158      Minneapolis, MN   \n",
       "3                     0.000000         Sandusky, OH   \n",
       "4                          NaN      Los Angeles, CA   \n",
       "\n",
       "   parent_metro_region_metro_code         last_updated  \n",
       "0                           30620  2025-02-10 14:21:52  \n",
       "1                           33740  2025-02-10 14:21:52  \n",
       "2                           33460  2025-02-10 14:21:52  \n",
       "3                           41780  2025-02-10 14:21:52  \n",
       "4                           31084  2025-02-10 14:21:52  \n",
       "\n",
       "[5 rows x 58 columns]"
      ]
     },
     "execution_count": 15,
     "metadata": {},
     "output_type": "execute_result"
    }
   ],
   "source": [
    "# Read the tsv file in to panda dataframe \n",
    "df = pd.read_csv('city_market_tracker.tsv000', sep='\\t')\n",
    "df.head()"
   ]
  },
  {
   "cell_type": "code",
   "execution_count": 28,
   "id": "b525fbfd-da84-451e-bdfd-9a18c235fb30",
   "metadata": {},
   "outputs": [],
   "source": [
    "# Check structure and data types\n",
    "#print(df.info())  "
   ]
  },
  {
   "cell_type": "code",
   "execution_count": 26,
   "id": "0466d7a1-7345-48bd-9a3d-6def6851acd6",
   "metadata": {},
   "outputs": [],
   "source": [
    "# Keep columns that are important for general market trend analyis and drop other columns \n",
    "# List of columns to drop\n",
    "drop_cols = [\n",
    "    \"period_end\", \"period_duration\", \"region_type\", \"region_type_id\", \"table_id\",\n",
    "    \"is_seasonally_adjusted\", \"region\", \"state_code\", \"property_type\", \"property_type_id\",\n",
    "    \"median_sale_price_mom\", \"median_sale_price_yoy\", \"median_list_price_mom\", \"median_list_price_yoy\",\n",
    "    \"median_ppsf\", \"median_ppsf_mom\", \"median_ppsf_yoy\", \"median_list_ppsf\", \"median_list_ppsf_mom\",\n",
    "    \"median_list_ppsf_yoy\", \"homes_sold_mom\", \"homes_sold_yoy\", \"pending_sales\", \"pending_sales_mom\",\n",
    "    \"pending_sales_yoy\", \"new_listings_mom\", \"new_listings_yoy\", \"inventory_mom\", \"inventory_yoy\",\n",
    "    \"months_of_supply_mom\", \"months_of_supply_yoy\", \"median_dom_mom\", \"median_dom_yoy\", \"avg_sale_to_list\",\n",
    "    \"avg_sale_to_list_mom\", \"avg_sale_to_list_yoy\", \"sold_above_list\", \"sold_above_list_mom\",\n",
    "    \"sold_above_list_yoy\", \"price_drops\", \"price_drops_mom\", \"price_drops_yoy\", \"off_market_in_two_weeks\",\n",
    "    \"off_market_in_two_weeks_mom\", \"off_market_in_two_weeks_yoy\", \"parent_metro_region\",\n",
    "    \"parent_metro_region_metro_code\", \"last_updated\"\n",
    "]\n",
    "df = df.drop(columns=drop_cols)"
   ]
  },
  {
   "cell_type": "code",
   "execution_count": 27,
   "id": "5ecf9e36-8503-4fad-b576-f1a524aedd57",
   "metadata": {},
   "outputs": [
    {
     "name": "stdout",
     "output_type": "stream",
     "text": [
      "Index(['period_begin', 'city', 'state', 'median_sale_price',\n",
      "       'median_list_price', 'homes_sold', 'new_listings', 'inventory',\n",
      "       'months_of_supply', 'median_dom'],\n",
      "      dtype='object')\n"
     ]
    }
   ],
   "source": [
    "# Check remaining columns \n",
    "print(df.columns)"
   ]
  },
  {
   "cell_type": "code",
   "execution_count": 20,
   "id": "4d51ffec-349e-421e-bdcd-a2577da82040",
   "metadata": {},
   "outputs": [],
   "source": [
    "# Check the number of duplicate rows\n",
    "duplicate_rows = df[df.duplicated()]\n",
    "#print(duplicate_rows.head())"
   ]
  },
  {
   "cell_type": "code",
   "execution_count": 29,
   "id": "26c94a90-a17b-41f1-9723-218fec02bedb",
   "metadata": {},
   "outputs": [],
   "source": [
    "missing_values = df.isna().mean() * 100\n",
    "#missing_values"
   ]
  },
  {
   "cell_type": "code",
   "execution_count": 30,
   "id": "e42d3690-2b8a-472e-87fb-af953a911d24",
   "metadata": {},
   "outputs": [
    {
     "name": "stdout",
     "output_type": "stream",
     "text": [
      "median_list_price    16.495228\n",
      "new_listings         16.850471\n",
      "dtype: float64\n"
     ]
    }
   ],
   "source": [
    "# display columns with more than 10% missing values \n",
    "print(missing_values[missing_values > 10])"
   ]
  },
  {
   "cell_type": "code",
   "execution_count": 31,
   "id": "32f654be-b13c-42dd-9210-63cdcc887c29",
   "metadata": {},
   "outputs": [
    {
     "name": "stdout",
     "output_type": "stream",
     "text": [
      "<class 'pandas.core.frame.DataFrame'>\n",
      "RangeIndex: 5747062 entries, 0 to 5747061\n",
      "Data columns (total 10 columns):\n",
      " #   Column             Dtype  \n",
      "---  ------             -----  \n",
      " 0   period_begin       object \n",
      " 1   city               object \n",
      " 2   state              object \n",
      " 3   median_sale_price  float64\n",
      " 4   median_list_price  float64\n",
      " 5   homes_sold         float64\n",
      " 6   new_listings       float64\n",
      " 7   inventory          float64\n",
      " 8   months_of_supply   float64\n",
      " 9   median_dom         float64\n",
      "dtypes: float64(7), object(3)\n",
      "memory usage: 438.5+ MB\n"
     ]
    }
   ],
   "source": [
    "df.info()"
   ]
  },
  {
   "cell_type": "code",
   "execution_count": 32,
   "id": "78daf5ee-56b8-4a78-9463-848c2a621a84",
   "metadata": {},
   "outputs": [
    {
     "data": {
      "text/html": [
       "<div>\n",
       "<style scoped>\n",
       "    .dataframe tbody tr th:only-of-type {\n",
       "        vertical-align: middle;\n",
       "    }\n",
       "\n",
       "    .dataframe tbody tr th {\n",
       "        vertical-align: top;\n",
       "    }\n",
       "\n",
       "    .dataframe thead th {\n",
       "        text-align: right;\n",
       "    }\n",
       "</style>\n",
       "<table border=\"1\" class=\"dataframe\">\n",
       "  <thead>\n",
       "    <tr style=\"text-align: right;\">\n",
       "      <th></th>\n",
       "      <th>period_begin</th>\n",
       "      <th>city</th>\n",
       "      <th>state</th>\n",
       "      <th>median_sale_price</th>\n",
       "      <th>median_list_price</th>\n",
       "      <th>homes_sold</th>\n",
       "      <th>new_listings</th>\n",
       "      <th>inventory</th>\n",
       "      <th>months_of_supply</th>\n",
       "      <th>median_dom</th>\n",
       "    </tr>\n",
       "  </thead>\n",
       "  <tbody>\n",
       "    <tr>\n",
       "      <th>0</th>\n",
       "      <td>2012-01-01</td>\n",
       "      <td>Gomer</td>\n",
       "      <td>Ohio</td>\n",
       "      <td>23500.0</td>\n",
       "      <td>NaN</td>\n",
       "      <td>1.0</td>\n",
       "      <td>NaN</td>\n",
       "      <td>NaN</td>\n",
       "      <td>NaN</td>\n",
       "      <td>90.0</td>\n",
       "    </tr>\n",
       "    <tr>\n",
       "      <th>1</th>\n",
       "      <td>2021-07-01</td>\n",
       "      <td>Swartz</td>\n",
       "      <td>Louisiana</td>\n",
       "      <td>197700.0</td>\n",
       "      <td>215000.0</td>\n",
       "      <td>6.0</td>\n",
       "      <td>11.0</td>\n",
       "      <td>17.0</td>\n",
       "      <td>2.8</td>\n",
       "      <td>1148.0</td>\n",
       "    </tr>\n",
       "    <tr>\n",
       "      <th>2</th>\n",
       "      <td>2017-10-01</td>\n",
       "      <td>Waconia</td>\n",
       "      <td>Minnesota</td>\n",
       "      <td>240000.0</td>\n",
       "      <td>304990.0</td>\n",
       "      <td>21.0</td>\n",
       "      <td>23.0</td>\n",
       "      <td>50.0</td>\n",
       "      <td>2.4</td>\n",
       "      <td>38.0</td>\n",
       "    </tr>\n",
       "    <tr>\n",
       "      <th>3</th>\n",
       "      <td>2015-08-01</td>\n",
       "      <td>Whites Landing</td>\n",
       "      <td>Ohio</td>\n",
       "      <td>52000.0</td>\n",
       "      <td>NaN</td>\n",
       "      <td>1.0</td>\n",
       "      <td>NaN</td>\n",
       "      <td>1.0</td>\n",
       "      <td>1.0</td>\n",
       "      <td>131.0</td>\n",
       "    </tr>\n",
       "    <tr>\n",
       "      <th>4</th>\n",
       "      <td>2014-12-01</td>\n",
       "      <td>Alondra Park</td>\n",
       "      <td>California</td>\n",
       "      <td>459000.0</td>\n",
       "      <td>NaN</td>\n",
       "      <td>1.0</td>\n",
       "      <td>NaN</td>\n",
       "      <td>1.0</td>\n",
       "      <td>1.0</td>\n",
       "      <td>8.0</td>\n",
       "    </tr>\n",
       "  </tbody>\n",
       "</table>\n",
       "</div>"
      ],
      "text/plain": [
       "  period_begin            city       state  median_sale_price  \\\n",
       "0   2012-01-01           Gomer        Ohio            23500.0   \n",
       "1   2021-07-01          Swartz   Louisiana           197700.0   \n",
       "2   2017-10-01         Waconia   Minnesota           240000.0   \n",
       "3   2015-08-01  Whites Landing        Ohio            52000.0   \n",
       "4   2014-12-01    Alondra Park  California           459000.0   \n",
       "\n",
       "   median_list_price  homes_sold  new_listings  inventory  months_of_supply  \\\n",
       "0                NaN         1.0           NaN        NaN               NaN   \n",
       "1           215000.0         6.0          11.0       17.0               2.8   \n",
       "2           304990.0        21.0          23.0       50.0               2.4   \n",
       "3                NaN         1.0           NaN        1.0               1.0   \n",
       "4                NaN         1.0           NaN        1.0               1.0   \n",
       "\n",
       "   median_dom  \n",
       "0        90.0  \n",
       "1      1148.0  \n",
       "2        38.0  \n",
       "3       131.0  \n",
       "4         8.0  "
      ]
     },
     "execution_count": 32,
     "metadata": {},
     "output_type": "execute_result"
    }
   ],
   "source": [
    "df.head()"
   ]
  },
  {
   "cell_type": "code",
   "execution_count": 34,
   "id": "c7aa0f3f-6a2a-4be4-b3b1-6a6f78ea2cf5",
   "metadata": {},
   "outputs": [
    {
     "data": {
      "text/plain": [
       "5747062"
      ]
     },
     "execution_count": 34,
     "metadata": {},
     "output_type": "execute_result"
    }
   ],
   "source": [
    "numb = len(df)\n",
    "numb"
   ]
  },
  {
   "cell_type": "code",
   "execution_count": 37,
   "id": "2f236e42-7922-4076-b784-10da8d80c3df",
   "metadata": {},
   "outputs": [
    {
     "data": {
      "text/plain": [
       "2849984"
      ]
     },
     "execution_count": 37,
     "metadata": {},
     "output_type": "execute_result"
    }
   ],
   "source": [
    "pd.isna(df).sum().sum()"
   ]
  },
  {
   "cell_type": "code",
   "execution_count": 39,
   "id": "30abc2c5-200f-47fd-8cbe-3129b50b3cda",
   "metadata": {},
   "outputs": [
    {
     "data": {
      "text/plain": [
       "period_begin          0.000000\n",
       "city                  0.000000\n",
       "state                 0.000000\n",
       "median_sale_price     0.112666\n",
       "median_list_price    16.495228\n",
       "homes_sold            0.105167\n",
       "new_listings         16.850471\n",
       "inventory             8.077745\n",
       "months_of_supply      6.681884\n",
       "median_dom            1.267117\n",
       "dtype: float64"
      ]
     },
     "execution_count": 39,
     "metadata": {},
     "output_type": "execute_result"
    }
   ],
   "source": [
    "missing_values = df.isna().mean() * 100\n",
    "missing_values"
   ]
  },
  {
   "cell_type": "markdown",
   "id": "b4b60dda-6424-4379-ac81-204ebd96077d",
   "metadata": {},
   "source": [
    "### Imputation \n",
    "The dataset has over 2.8 million missing values. Columns such as median_list_price, new_listings, and inventory have a high percentage of missing values, which affect housing market data analysis. To deal with missing values and fill them with reasonable estimates, it is important to implement imputation. Imputation allows us to fill missing values using methods like mean, median, or mode. This helps avoid losing data and preserves housing market trends. Imputation helps maintain the integrity of the dataset.\n",
    "\n",
    "In order to apply imputation, we need to figure out the strategy for filling missing values. Are we going to use the mean or median values of the columns? To decide this, we can apply skewness analysis, which helps us determine whether to use the mean or median for filling the missing values."
   ]
  },
  {
   "cell_type": "code",
   "execution_count": 40,
   "id": "5479a9d1-fad5-4f14-9376-f79b236ebc22",
   "metadata": {},
   "outputs": [],
   "source": [
    "from scipy.stats import skew"
   ]
  },
  {
   "cell_type": "code",
   "execution_count": 43,
   "id": "b0ef8b58-d55f-419b-b571-c5633e0f7b64",
   "metadata": {},
   "outputs": [
    {
     "name": "stdout",
     "output_type": "stream",
     "text": [
      "Skewness of median_list_price: 581.898\n",
      "Skewness of homes_sold: 20.810\n",
      "Skewness of new_listings: 22.030\n",
      "Skewness of inventory: 35.898\n",
      "Skewness of months_of_supply: 19.282\n",
      "Skewness of median_dom: 19.623\n"
     ]
    }
   ],
   "source": [
    "# calculate skewness for \"median_list_price\", \"homes_sold\", \"new_listings\", \"inventory\", \"months_of_supply\", \"median_dom\"\n",
    "columns = [\n",
    "    \"median_list_price\", \"homes_sold\", \"new_listings\", \n",
    "    \"inventory\", \"months_of_supply\", \"median_dom\"\n",
    "]\n",
    "# calculate skewness for each columns\n",
    "for col in columns:\n",
    "    print(f\"Skewness of {col}: {skew(df[col].dropna()):.3f}\")"
   ]
  },
  {
   "cell_type": "markdown",
   "id": "1589bb4b-b287-4eef-816b-e287533df537",
   "metadata": {},
   "source": [
    "The skewness of the columns is very high. Most of them exhibit a right tail skew, indicating a positive result. This means that the data contains high values or outliers that are significantly distorting the mean. To fill the missing values, it is recommended to use median imputation rather than mean imputation. The median is less sensitive to extreme outliers, while mean imputation would distort the data further by being influenced by these extreme high values."
   ]
  },
  {
   "cell_type": "code",
   "execution_count": 46,
   "id": "f3055f17-4049-4449-8321-f4317fdcf069",
   "metadata": {},
   "outputs": [
    {
     "name": "stderr",
     "output_type": "stream",
     "text": [
      "/var/folders/rn/h0jsj52532jgpm4cc66mm4rm0000gn/T/ipykernel_69409/2251470191.py:6: FutureWarning: A value is trying to be set on a copy of a DataFrame or Series through chained assignment using an inplace method.\n",
      "The behavior will change in pandas 3.0. This inplace method will never work because the intermediate object on which we are setting values always behaves as a copy.\n",
      "\n",
      "For example, when doing 'df[col].method(value, inplace=True)', try using 'df.method({col: value}, inplace=True)' or df[col] = df[col].method(value) instead, to perform the operation inplace on the original object.\n",
      "\n",
      "\n",
      "  df[col].fillna(df[col].median(), inplace=True)\n"
     ]
    }
   ],
   "source": [
    "impute_columns = [\n",
    "    \"median_list_price\", \"homes_sold\", \"new_listings\", \n",
    "    \"inventory\", \"months_of_supply\", \"median_dom\"\n",
    "]\n",
    "for col in impute_columns:\n",
    "    df[col].fillna(df[col].median(), inplace=True)"
   ]
  },
  {
   "cell_type": "code",
   "execution_count": null,
   "id": "e308aff2-a925-4a4b-bcd6-f5ec2278a096",
   "metadata": {},
   "outputs": [],
   "source": [
    "print(df[impute_columns].is)"
   ]
  }
 ],
 "metadata": {
  "kernelspec": {
   "display_name": "Python 3 (ipykernel)",
   "language": "python",
   "name": "python3"
  },
  "language_info": {
   "codemirror_mode": {
    "name": "ipython",
    "version": 3
   },
   "file_extension": ".py",
   "mimetype": "text/x-python",
   "name": "python",
   "nbconvert_exporter": "python",
   "pygments_lexer": "ipython3",
   "version": "3.12.4"
  }
 },
 "nbformat": 4,
 "nbformat_minor": 5
}
