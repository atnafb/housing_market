{
 "cells": [
  {
   "cell_type": "code",
   "execution_count": 10,
   "id": "5e3956be-ee1f-45b7-8e91-8aaa07172211",
   "metadata": {},
   "outputs": [],
   "source": [
    "import kaggle \n",
    "import pandas as pd\n",
    "import os"
   ]
  },
  {
   "cell_type": "code",
   "execution_count": null,
   "id": "334ad4fb-6f20-49cf-96f5-4d7471042499",
   "metadata": {},
   "outputs": [
    {
     "name": "stdout",
     "output_type": "stream",
     "text": [
      "Dataset URL: https://www.kaggle.com/datasets/vincentvaseghi/us-cities-housing-market-data\n",
      "License(s): copyright-authors\n"
     ]
    }
   ],
   "source": [
    "# Download the dataset from Kaggle\n",
    "!kaggle datasets download -d vincentvaseghi/us-cities-housing-market-data -f city_market_tracker.tsv000"
   ]
  },
  {
   "cell_type": "code",
   "execution_count": 12,
   "id": "7f3c062c-7232-4bf9-8a17-3c90d93ae908",
   "metadata": {},
   "outputs": [
    {
     "name": "stdout",
     "output_type": "stream",
     "text": [
      "name                              size  creationDate                \n",
      "--------------------------  ----------  --------------------------  \n",
      "city_market_tracker.tsv000  3340542588  2025-03-08 03:08:47.014000  \n"
     ]
    }
   ],
   "source": [
    "# See available files \n",
    "!kaggle datasets files -d vincentvaseghi/us-cities-housing-market-data"
   ]
  },
  {
   "cell_type": "code",
   "execution_count": 8,
   "id": "c8503d11-eea5-45d0-94c1-e75831908ee0",
   "metadata": {},
   "outputs": [
    {
     "name": "stdout",
     "output_type": "stream",
     "text": [
      "Dataset URL: https://www.kaggle.com/datasets/vincentvaseghi/us-cities-housing-market-data\n",
      "License(s): copyright-authors\n",
      "city_market_tracker.tsv000: Skipping, found more recently modified local copy (use --force to force download)\n"
     ]
    }
   ],
   "source": []
  },
  {
   "cell_type": "code",
   "execution_count": null,
   "id": "533bed81-3213-44f6-bf90-202bd4c1435f",
   "metadata": {},
   "outputs": [],
   "source": [
    "import pandas as pd\n",
    "import os\n",
    "import kagglehub\n",
    "from kagglehub import KaggleDatasetAdapter"
   ]
  }
 ],
 "metadata": {
  "kernelspec": {
   "display_name": "Python 3 (ipykernel)",
   "language": "python",
   "name": "python3"
  },
  "language_info": {
   "codemirror_mode": {
    "name": "ipython",
    "version": 3
   },
   "file_extension": ".py",
   "mimetype": "text/x-python",
   "name": "python",
   "nbconvert_exporter": "python",
   "pygments_lexer": "ipython3",
   "version": "3.12.4"
  }
 },
 "nbformat": 4,
 "nbformat_minor": 5
}
